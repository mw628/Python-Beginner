{
 "cells": [
  {
   "cell_type": "markdown",
   "metadata": {},
   "source": [
    "# 表达式Expression"
   ]
  },
  {
   "cell_type": "code",
   "execution_count": 6,
   "metadata": {},
   "outputs": [
    {
     "name": "stdout",
     "output_type": "stream",
     "text": [
      "Area is 10\n",
      "Perimeter is 14\n"
     ]
    }
   ],
   "source": [
    "length=5\n",
    "breadth=2\n",
    "area=length*breadth\n",
    "print('Area is',area)  #print函数打印字符串时用引号扩起来字符串\n",
    "print('Perimeter is',2*(length+breadth))\n"
   ]
  },
  {
   "cell_type": "markdown",
   "metadata": {},
   "source": [
    "# 控制流"
   ]
  },
  {
   "cell_type": "markdown",
   "metadata": {},
   "source": [
    "## if语句\n",
    "如果条件为真，运行if-block;否则运行else-block"
   ]
  },
  {
   "cell_type": "code",
   "execution_count": 9,
   "metadata": {},
   "outputs": [
    {
     "name": "stdout",
     "output_type": "stream",
     "text": [
      "Enter an intger:4\n",
      "No,it is a little higher than that\n",
      "Done\n"
     ]
    }
   ],
   "source": [
    "number=23\n",
    "guess=int(input('Enter an intger:')) #input函数提供字符串并等待用户输入\n",
    "\n",
    "if guess==number:   \n",
    "    print('Congradulations, you guessed it')\n",
    "    print('(but you do not win any prizes!)')\n",
    "elif guess<number: \n",
    "    print('No,it is a little higher than that')\n",
    "else:\n",
    "          print('No, it is a little lower than that')\n",
    "#当python完整执行了if语句及相关elif和else子句后，会移动至包含if语句代码块的下一个语句中\n",
    "\n",
    "print('Done')"
   ]
  },
  {
   "cell_type": "markdown",
   "metadata": {},
   "source": [
    "## while语句\n",
    "while语句在条件为真的前提下重复执行某块语句，当判断条件假false时，循环结束。"
   ]
  },
  {
   "cell_type": "code",
   "execution_count": 13,
   "metadata": {},
   "outputs": [
    {
     "name": "stdout",
     "output_type": "stream",
     "text": [
      "Enter an integer:23\n",
      "Congradulations,you guessed it.\n",
      "The while loop is over.\n",
      "Done\n"
     ]
    }
   ],
   "source": [
    "number=23\n",
    "running=True\n",
    "\n",
    "while running:\n",
    "    guess=int(input('Enter an integer:'))\n",
    "    \n",
    "    if guess==number:\n",
    "        print('Congradulations,you guessed it.')\n",
    "        running=False\n",
    "    elif guess<number:\n",
    "        print('No,it is a little higher than that.')\n",
    "    else:\n",
    "        print('No it is a little lower than that.')\n",
    "else: \n",
    "    print('The while loop is over.')\n",
    "#while … else 在循环条件为 false 时执行 else 语句块\n",
    "\n",
    "print('Done')"
   ]
  },
  {
   "cell_type": "markdown",
   "metadata": {},
   "source": [
    "## for循环\n",
    "for...in会在一系列对象上进行迭代(Iterates),会遍历序列中每一个项目"
   ]
  },
  {
   "cell_type": "code",
   "execution_count": 14,
   "metadata": {},
   "outputs": [
    {
     "name": "stdout",
     "output_type": "stream",
     "text": [
      "1\n",
      "2\n",
      "3\n",
      "4\n",
      "The for loop is over\n"
     ]
    }
   ],
   "source": [
    "for i in range(1,5):\n",
    "    print(i)\n",
    "else:\n",
    "    print('The for loop is over')"
   ]
  },
  {
   "cell_type": "markdown",
   "metadata": {},
   "source": [
    "## break 语句\n",
    "用以中止循环语句的执行。若中断了一个for或while循环，任何循环中的else块将不会执行"
   ]
  },
  {
   "cell_type": "code",
   "execution_count": 16,
   "metadata": {},
   "outputs": [
    {
     "name": "stdout",
     "output_type": "stream",
     "text": [
      "Enter something:hello word\n",
      "length of the string is 10\n",
      "Enter something:quit\n",
      "Done\n"
     ]
    }
   ],
   "source": [
    "while True:\n",
    "    s=input('Enter something:')\n",
    "    if s=='quit':\n",
    "        break\n",
    "    print('length of the string is',len(s))\n",
    "print('Done')"
   ]
  },
  {
   "cell_type": "markdown",
   "metadata": {},
   "source": [
    "## continue语句\n",
    "用以跳过当前循环块的剩余语句，并继续该循环的下一次迭代"
   ]
  },
  {
   "cell_type": "code",
   "execution_count": 17,
   "metadata": {
    "scrolled": true
   },
   "outputs": [
    {
     "name": "stdout",
     "output_type": "stream",
     "text": [
      "Enter something:hi\n",
      "To small\n",
      "Enter something:hello word\n",
      "Input is sufficient length\n",
      "Enter something:quit\n"
     ]
    }
   ],
   "source": [
    "while True:\n",
    "    s=input('Enter something:')\n",
    "    if s =='quit':\n",
    "        break\n",
    "    if len(s)<3:\n",
    "        print('To small')\n",
    "        continue\n",
    "    print('Input is sufficient length')"
   ]
  }
 ],
 "metadata": {
  "kernelspec": {
   "display_name": "Python 3",
   "language": "python",
   "name": "python3"
  },
  "language_info": {
   "codemirror_mode": {
    "name": "ipython",
    "version": 3
   },
   "file_extension": ".py",
   "mimetype": "text/x-python",
   "name": "python",
   "nbconvert_exporter": "python",
   "pygments_lexer": "ipython3",
   "version": "3.6.3"
  }
 },
 "nbformat": 4,
 "nbformat_minor": 2
}
