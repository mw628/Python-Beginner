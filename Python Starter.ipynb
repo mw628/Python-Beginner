{
 "cells": [
  {
   "cell_type": "markdown",
   "metadata": {},
   "source": [
    "# Python 入门"
   ]
  },
  {
   "cell_type": "markdown",
   "metadata": {},
   "source": [
    "## Python程序由语句构成"
   ]
  },
  {
   "cell_type": "code",
   "execution_count": 1,
   "metadata": {
    "scrolled": true
   },
   "outputs": [
    {
     "name": "stdout",
     "output_type": "stream",
     "text": [
      "hello world\n"
     ]
    }
   ],
   "source": [
    "print('hello world')"
   ]
  },
  {
   "cell_type": "markdown",
   "metadata": {},
   "source": [
    "## format 将每个参数值替换至格式所在位置; Python 从0开始计数."
   ]
  },
  {
   "cell_type": "code",
   "execution_count": 2,
   "metadata": {},
   "outputs": [
    {
     "name": "stdout",
     "output_type": "stream",
     "text": [
      "Swaroop was 20 years old whem he wrote this book\n",
      "Why is Swaroop playing with python?\n"
     ]
    }
   ],
   "source": [
    "age=20\n",
    "name='Swaroop'\n",
    "print('{0} was {1} years old whem he wrote this book'.format(name,age))\n",
    "print('Why is {0} playing with python?'.format(name))"
   ]
  },
  {
   "cell_type": "markdown",
   "metadata": {},
   "source": [
    "## 对于浮点数‘0.333’保留小数点(.)后三位"
   ]
  },
  {
   "cell_type": "code",
   "execution_count": 3,
   "metadata": {},
   "outputs": [
    {
     "name": "stdout",
     "output_type": "stream",
     "text": [
      "0.333\n"
     ]
    }
   ],
   "source": [
    "print('{0:.3f}'.format(1.0/3))"
   ]
  },
  {
   "cell_type": "markdown",
   "metadata": {},
   "source": [
    "## 是用下划线填充文本，并保持文字处于中间位置，使用(^)定义'_hello_'字符串长度为11"
   ]
  },
  {
   "cell_type": "code",
   "execution_count": 4,
   "metadata": {},
   "outputs": [
    {
     "name": "stdout",
     "output_type": "stream",
     "text": [
      "___hello___\n"
     ]
    }
   ],
   "source": [
    "print('{0:_^11}'.format('hello'))"
   ]
  },
  {
   "cell_type": "markdown",
   "metadata": {},
   "source": [
    "## 基于关键字输出'Swaroop wrote A Byte of Python'"
   ]
  },
  {
   "cell_type": "code",
   "execution_count": 5,
   "metadata": {},
   "outputs": [
    {
     "name": "stdout",
     "output_type": "stream",
     "text": [
      "Swaroop wrote A Byte of Python\n"
     ]
    }
   ],
   "source": [
    "print('{name} wrote {book}'.format(name='Swaroop',book='A Byte of Python'))"
   ]
  },
  {
   "cell_type": "markdown",
   "metadata": {},
   "source": [
    "## print以(\\n)结尾，可通过end指定结尾"
   ]
  },
  {
   "cell_type": "code",
   "execution_count": 6,
   "metadata": {},
   "outputs": [
    {
     "name": "stdout",
     "output_type": "stream",
     "text": [
      "ab"
     ]
    }
   ],
   "source": [
    "print('a',end='')\n",
    "print('b',end='')"
   ]
  },
  {
   "cell_type": "code",
   "execution_count": 7,
   "metadata": {},
   "outputs": [
    {
     "name": "stdout",
     "output_type": "stream",
     "text": [
      "a b c"
     ]
    }
   ],
   "source": [
    "print('a',end=' ')\n",
    "print('b',end=' ')\n",
    "print('c',end='')"
   ]
  },
  {
   "cell_type": "markdown",
   "metadata": {},
   "source": [
    "## 转义序列:生成一串包含单引号的字符串时，必须指定这个单引号不代表字符串结尾，通过 \\ 反斜杠指定单引号。如果是双引号，则使用转义序列 \\\\ 来指定反斜杠本身。在一个字符串中， 一个放置在末尾的反斜杠表示字符串将在下一行继续，但不会添加新的一行"
   ]
  },
  {
   "cell_type": "code",
   "execution_count": 14,
   "metadata": {
    "scrolled": false
   },
   "outputs": [
    {
     "name": "stdout",
     "output_type": "stream",
     "text": [
      "What's your name?\n",
      "What's your name?\n",
      "This is the first line\n",
      "This is the second line\n",
      "This is the first sentence.This is the second sentence.\n"
     ]
    }
   ],
   "source": [
    "print('What\\'s your name?')\n",
    "print(\"What's your name?\") #使用双引号避免单引号代表字符结尾\n",
    "print('This is the first line\\nThis is the second line')#\\n表示新一行开始\n",
    "print(\"This is the first sentence.\\\n",
    "This is the second sentence.\") #反斜杠结尾表示字符串在下一行继续但不会换行"
   ]
  },
  {
   "cell_type": "markdown",
   "metadata": {},
   "source": [
    "## 原始字符串若需要指定一些未经过特殊处理的字符串，需要在字符串前加r或R来指定原始字符串.\n",
    "r\"Newlines are indicated by \\n\""
   ]
  },
  {
   "cell_type": "markdown",
   "metadata": {},
   "source": [
    "## 使用变量与字符变量"
   ]
  },
  {
   "cell_type": "code",
   "execution_count": 24,
   "metadata": {
    "scrolled": true
   },
   "outputs": [
    {
     "name": "stdout",
     "output_type": "stream",
     "text": [
      "i\n",
      "i\n",
      "This is a multi-line string.This is the second line\n",
      "3\n"
     ]
    }
   ],
   "source": [
    "i=5\n",
    "print('i')\n",
    "i=i+1\n",
    "print('i')\n",
    "\n",
    "s=\"This is a multi-line string.\\\n",
    "This is the second line\" #通过反斜杠将长代码拆分成多个物理行\n",
    "print(s)\n",
    "\n",
    "j=3;print(j) #使用分号表示逻辑行或语句的结束，最好一个物理行最多写入一个逻辑行"
   ]
  },
  {
   "cell_type": "markdown",
   "metadata": {},
   "source": [
    "## 缩进:空白区在各行开头以确定各逻辑行的缩进级别。放在一起的语句（块）必须拥有相同的缩进。Python官方文档建议用4个空格。"
   ]
  }
 ],
 "metadata": {
  "kernelspec": {
   "display_name": "Python 3",
   "language": "python",
   "name": "python3"
  },
  "language_info": {
   "codemirror_mode": {
    "name": "ipython",
    "version": 3
   },
   "file_extension": ".py",
   "mimetype": "text/x-python",
   "name": "python",
   "nbconvert_exporter": "python",
   "pygments_lexer": "ipython3",
   "version": "3.6.3"
  }
 },
 "nbformat": 4,
 "nbformat_minor": 2
}
