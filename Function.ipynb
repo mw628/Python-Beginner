{
 "cells": [
  {
   "cell_type": "markdown",
   "metadata": {},
   "source": [
    "# 函数\n",
    "可重复使用的程序片段，允许为某个代码赋予名字，通过这个名字在程序的任何地方运行代码块。\n",
    "通过def来定义，后跟一个函数的标识符名称，再跟一对圆括号，其中可包含一些变量的名称，最后以冒号结尾"
   ]
  },
  {
   "cell_type": "code",
   "execution_count": 1,
   "metadata": {},
   "outputs": [
    {
     "name": "stdout",
     "output_type": "stream",
     "text": [
      "hello world\n",
      "hello world\n"
     ]
    }
   ],
   "source": [
    "def say_hello():\n",
    "    #该块属于这个函数\n",
    "    print ('hello world')\n",
    "    #函数结束\n",
    "say_hello()\n",
    "say_hello()"
   ]
  },
  {
   "cell_type": "markdown",
   "metadata": {},
   "source": [
    "## 函数参数\n",
    "函数可以获取参数，参数值由你提供，与变量类似，函数可以利用这些参数。变量的值在调用函数时已被定义，函数运行时已赋值完成。\n",
    "参数通过放置在用以定义函数的圆括号内，以逗号分隔。\n",
    "定义函数时的给定的称为“形参”（parameters）；调用函数时提供的值称为“实参”（arguments）"
   ]
  },
  {
   "cell_type": "code",
   "execution_count": 3,
   "metadata": {},
   "outputs": [
    {
     "name": "stdout",
     "output_type": "stream",
     "text": [
      "4 is maximum\n",
      "7 is maximum\n"
     ]
    }
   ],
   "source": [
    "def print_max(a,b):\n",
    "    if a>b:\n",
    "        print(a,'is maximun')\n",
    "    elif a==b:\n",
    "        print(a,'is equal to',b)\n",
    "    else:\n",
    "        print(b,'is maximum')\n",
    "        \n",
    " #直接传递字面值       \n",
    "print_max(3,4)\n",
    "\n",
    "#以参数形式传递变量\n",
    "x=5\n",
    "y=7\n",
    "print_max(x,y)"
   ]
  },
  {
   "cell_type": "markdown",
   "metadata": {},
   "source": [
    "## 局部变量\n",
    "当在一个函数的定义中声明变量时，它们不会与函数之外相同名称的变量产生关系，这些变量名只存在于函数局部（local），被称为变量的作用域（scope）。所有变量的作用域是它们被定义的块，从定义它们的名字的定义点开始。"
   ]
  },
  {
   "cell_type": "code",
   "execution_count": 8,
   "metadata": {},
   "outputs": [
    {
     "name": "stdout",
     "output_type": "stream",
     "text": [
      "x is 50\n",
      "Changed local x to 2\n",
      "x is still 50\n"
     ]
    }
   ],
   "source": [
    "x=50\n",
    "\n",
    "def func(x):\n",
    "    print('x is', x) #第一次打印x的值是在函数声明之上的主代码块中这一参数的值\n",
    "    x=2              #将2赋值给x，x是函数中的局部变量\n",
    "    print('Changed local x to', x) \n",
    "    \n",
    "func(x)             #主代码块中定义的x的值不受先前调用的的函数中的局部变量影响\n",
    "print('x is still',x)"
   ]
  },
  {
   "cell_type": "markdown",
   "metadata": {},
   "source": [
    "## global语句\n",
    "给一个在程序顶层的变量赋值，告诉python这一变量并非局部变量而是全局的。"
   ]
  },
  {
   "cell_type": "code",
   "execution_count": 9,
   "metadata": {},
   "outputs": [
    {
     "name": "stdout",
     "output_type": "stream",
     "text": [
      "x is 50\n",
      "Changed global x to 2\n",
      "Value of x is 2\n"
     ]
    }
   ],
   "source": [
    "x=50\n",
    "\n",
    "def func():\n",
    "    global x      #声明x是一个全局变量，当在函数中为x进行赋值时，改动会影响到主代码块的x\n",
    "    \n",
    "    print('x is',x)\n",
    "    x=2\n",
    "    print('Changed global x to',x)\n",
    "    \n",
    "func()\n",
    "print('Value of x is',x)"
   ]
  },
  {
   "cell_type": "markdown",
   "metadata": {},
   "source": [
    "## 默认参数值\n",
    "使一些参数可选并使用默认值，以避免用户不想为它们提供值得情况。\n",
    "默认参数值应该是常数，不可变的。"
   ]
  },
  {
   "cell_type": "code",
   "execution_count": 11,
   "metadata": {},
   "outputs": [
    {
     "name": "stdout",
     "output_type": "stream",
     "text": [
      "Hello\n",
      "WorldWorldWorldWorldWorld\n"
     ]
    }
   ],
   "source": [
    "def say(message,times=1):    #只有位于参数列表末尾的参数才能被赋予默认值\n",
    "    print(message*times)\n",
    "    \n",
    "say('Hello')\n",
    "say('World',5)"
   ]
  },
  {
   "cell_type": "markdown",
   "metadata": {},
   "source": [
    "## 关键字参数\n",
    "在一些具有许多参数的函数中，可以通过命名来给指定参数赋值。我们使用命名而非位置来指定函数中的参数。优点是不需考虑参数的顺序；只对特定的参数赋值。"
   ]
  },
  {
   "cell_type": "code",
   "execution_count": 15,
   "metadata": {},
   "outputs": [
    {
     "name": "stdout",
     "output_type": "stream",
     "text": [
      "a is 3 and b is 7 and c is 9\n",
      "a is 25 and b is 5 and c is 24\n",
      "a is 100 and b is 5 and c is 50\n"
     ]
    }
   ],
   "source": [
    "def func(a,b=5,c=10):\n",
    "    print('a is',a,'and b is',b,'and c is',c)\n",
    "\n",
    "func(3,7,9)\n",
    "func(25,c=24)    #没有指定参数时按照位置赋值，b为默认值\n",
    "func(c=50,a=100) #不考虑位置"
   ]
  },
  {
   "cell_type": "markdown",
   "metadata": {},
   "source": [
    "## 可变参数\n",
    "通过使用星号来实现函数中能够由任意数量的变量，即参数数量时可变的。"
   ]
  },
  {
   "cell_type": "code",
   "execution_count": 17,
   "metadata": {},
   "outputs": [
    {
     "name": "stdout",
     "output_type": "stream",
     "text": [
      "a is 10\n",
      "single_item 1\n",
      "single_item 2\n",
      "single_item 3\n",
      "Jack 1123\n",
      "John 2231\n",
      "Inge 1560\n",
      "None\n"
     ]
    }
   ],
   "source": [
    "def total(a=5,*numbers,**phonebook):\n",
    "    print('a is',a)\n",
    "    \n",
    "    #遍历元组中的所有项目\n",
    "    for single_item in numbers:\n",
    "        print('single_item',single_item)\n",
    "        \n",
    "    #遍历字典中的所有项目\n",
    "    for first_part,second_part in phonebook.items():\n",
    "        print(first_part,second_part)\n",
    "print(total(10,1,2,3,Jack=1123,John=2231,Inge=1560))\n",
    "\n",
    "#\n"
   ]
  },
  {
   "cell_type": "markdown",
   "metadata": {},
   "source": [
    "当声明一个星号参数*param时，从声明开始到结束的所有位置参数（positional arguments）都将收集并汇集成一个‘param’的元组（Tuple）；当声明一个双星号参数**param时，从开始到结束所有的关键字参数将被收集并汇集成一个名为param的字典（dictionary）"
   ]
  },
  {
   "cell_type": "markdown",
   "metadata": {},
   "source": [
    "## return语句\n",
    "用于从函数中返回，即中断函数。也可以在中断函数时从函数中返回一个值"
   ]
  },
  {
   "cell_type": "code",
   "execution_count": 20,
   "metadata": {},
   "outputs": [
    {
     "name": "stdout",
     "output_type": "stream",
     "text": [
      "3\n",
      "The number is equal\n",
      "6\n"
     ]
    }
   ],
   "source": [
    "def maximum(x,y):\n",
    "    if x>y:\n",
    "        return x\n",
    "    elif x==y:\n",
    "        return 'The number is equal'\n",
    "    else:\n",
    "        return y     \n",
    "#如果return语句没有搭配任何值，则代表返回None，用于指示一个变量没有值。\n",
    "    \n",
    "print(maximum(2,3))\n",
    "print(maximum(4,4))\n",
    "print(maximum(6,5))"
   ]
  },
  {
   "cell_type": "markdown",
   "metadata": {},
   "source": [
    "## 文档字符串（Documentation Strings）\n",
    "帮助记录程序并让其易于理解，当程序实际运行时，可以通过一个函数来获得文档。\n",
    "（两个下划线）__doc__"
   ]
  },
  {
   "cell_type": "code",
   "execution_count": 23,
   "metadata": {},
   "outputs": [
    {
     "name": "stdout",
     "output_type": "stream",
     "text": [
      "5 is maximum\n",
      "Prints the maximum of two numbers.打印两个数值中最大的数。\n",
      "    \n",
      "    The two values must be integers. 这两个数都应该是整数\n"
     ]
    }
   ],
   "source": [
    "def print_max(x,y):\n",
    "    '''Prints the maximum of two numbers.打印两个数值中最大的数。\n",
    "    \n",
    "    The two values must be integers. 这两个数都应该是整数'''\n",
    "    #如果可能，将其转换成整数类型\n",
    "    x=int(x)\n",
    "    y=int(y)\n",
    "    \n",
    "    if x>y:\n",
    "        print(x,'is maximum')\n",
    "    else:\n",
    "        print(y,'is maximum')\n",
    "\n",
    "print_max(3,5)\n",
    "print(print_max.__doc__)   #使用函数__doc__的属性来获取函数print_max的字符串属性\n",
    "\n",
    "#函数的第一个逻辑行的字符串是该函数的文档字符串（DocString）。\n",
    "#该文档字符串所约定的是一串多行字符串，第一行以某个大写开始，以句号结束。\n",
    "#第二行为空行，第三行开始是任何详细的解释说明。"
   ]
  }
 ],
 "metadata": {
  "kernelspec": {
   "display_name": "Python 3",
   "language": "python",
   "name": "python3"
  },
  "language_info": {
   "codemirror_mode": {
    "name": "ipython",
    "version": 3
   },
   "file_extension": ".py",
   "mimetype": "text/x-python",
   "name": "python",
   "nbconvert_exporter": "python",
   "pygments_lexer": "ipython3",
   "version": "3.6.3"
  }
 },
 "nbformat": 4,
 "nbformat_minor": 2
}
